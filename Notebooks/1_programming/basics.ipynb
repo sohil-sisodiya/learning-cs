{
 "cells": [
  {
   "cell_type": "markdown",
   "id": "1c0f78ec",
   "metadata": {},
   "source": [
    "# What is Python\n",
    "Python is both compiled and interpreted, object-oriented, high level programming language with dynamic semantics.\n",
    "- creator - **Guido Van Rossum (1991)**"
   ]
  },
  {
   "cell_type": "markdown",
   "id": "0b373f39",
   "metadata": {},
   "source": [
    "## Comment in Python\n",
    "python have two type of comments:\n",
    "- single line\n",
    "- multi line"
   ]
  },
  {
   "cell_type": "code",
   "execution_count": null,
   "id": "57b87804",
   "metadata": {
    "vscode": {
     "languageId": "plaintext"
    }
   },
   "outputs": [],
   "source": [
    "# this is single line comment\n",
    "\n",
    "''' this is\n",
    "\t\tmulti line comment.\n",
    "'''"
   ]
  },
  {
   "cell_type": "markdown",
   "id": "b20652d6",
   "metadata": {},
   "source": [
    "## `docString`\n",
    "docstring return the documentation of above program using `.__doc__` method."
   ]
  },
  {
   "cell_type": "code",
   "execution_count": null,
   "id": "e17ba762",
   "metadata": {
    "vscode": {
     "languageId": "plaintext"
    }
   },
   "outputs": [],
   "source": [
    "def print_max(x, y):\n",
    "    '''Prints the maximum of two numbers.\n",
    "The two values must be integers.'''\n",
    " # convert to integers, if possible\n",
    "    x = int(x)\n",
    "    y = int(y)\n",
    "    if x > y:\n",
    "        print(x, 'is maximum')\n",
    "    else:\n",
    "        print(y, 'is maximum')\n",
    "        \n",
    "\n",
    "print_max(3, 5)\n",
    "print(print_max.__doc__) # docstring return the documention of above program\n",
    "\n",
    "# shift + tab using to see the doc of a fuction in jupyter notebook"
   ]
  },
  {
   "cell_type": "markdown",
   "id": "98213096",
   "metadata": {},
   "source": [
    "## Variables in Python\n",
    "Rule of Writing a Variables:\n",
    "1. Use `(_)` underscore to separate the names while writing a variable not space.\n",
    "2. A variable name never start with a number or special symbols."
   ]
  },
  {
   "cell_type": "code",
   "execution_count": null,
   "id": "06eded09",
   "metadata": {
    "vscode": {
     "languageId": "plaintext"
    }
   },
   "outputs": [],
   "source": [
    "# creating variable \n",
    "\n",
    "txt = 'hello'\n",
    "print(txt) # retrun the output"
   ]
  },
  {
   "cell_type": "code",
   "execution_count": null,
   "id": "d385ba10",
   "metadata": {
    "vscode": {
     "languageId": "plaintext"
    }
   },
   "outputs": [],
   "source": [
    "# creating multi line variable\n",
    "number = (\n",
    "    1 + 2 + 3 +\n",
    "    4 + 5 + 6 +\n",
    "    7 + 8 + 9\n",
    ")\n",
    "\n",
    "print(number)\n",
    "\n",
    "# Assigning Mutliple Variable in same line\n",
    "num1 = 10; num2 = 20; num3 = 30\n",
    "print(num1, num2, num3)\n",
    "\n",
    "var1 = var2 = var3 = 35\n",
    "print(var1)\n",
    "print(var2)\n",
    "print(var3)\n",
    "\n",
    "var_sum = var1 + var2 + var3\n",
    "\n",
    "print(var_sum)\n",
    "\n",
    "i = 5\n",
    "print(i)\n",
    "i = i + 1\n",
    "print(i)\n",
    "\n",
    "s = '''This is a multi-line string.\n",
    "This is the second line.'''\n",
    "print(s)"
   ]
  },
  {
   "cell_type": "markdown",
   "id": "9eaf3447",
   "metadata": {},
   "source": [
    "#### Indentation\n",
    "*Whitespace* is ==important== in python. Actually, whitespace at the beginning of the line line important. this is called Indentation."
   ]
  },
  {
   "cell_type": "code",
   "execution_count": null,
   "id": "8c113a75",
   "metadata": {
    "vscode": {
     "languageId": "plaintext"
    }
   },
   "outputs": [],
   "source": [
    "i = 5\n",
    "\n",
    "# Error below! Notice a single space at the start of the line\n",
    " print('Value is', i)\n",
    "\n",
    "print('I repeat, the value is', i)"
   ]
  },
  {
   "cell_type": "markdown",
   "id": "57d7961e",
   "metadata": {},
   "source": [
    "## Data Types and User-Input\n",
    "python has automatically assign data type of variable, you don't need to assign it."
   ]
  },
  {
   "cell_type": "code",
   "execution_count": null,
   "id": "2f2a42b5",
   "metadata": {
    "vscode": {
     "languageId": "plaintext"
    }
   },
   "outputs": [],
   "source": [
    "a = \"hello\"  # str\n",
    "\n",
    "# numeric\n",
    "b = 10  # int\n",
    "c = 10.5  # float\n",
    "d = 5+6j  # complex\n",
    "\n",
    "# Boolean\n",
    "e = True  # bool\n",
    "f = False # bool\n",
    "\n",
    "# Sequence\n",
    "g = [1, 2, 3, 4]  # list\n",
    "h = (1, 2, 3, 4)  # tuple\n",
    "i = {1, 2, 3, 4}  # set\n",
    "# set\n",
    "o = frozenset({1, 2, 3, 4})  # frozenset\n",
    "\n",
    "# Mapping\n",
    "j = {1: 'one', 2: 'two', 3: 'three'}  # dict\n",
    "\n",
    "# binary\n",
    "k = b'hello'  # bytes\n",
    "l = bytearray(5)  # bytearray\n",
    "m = memoryview(bytes(4))  # memoryview\n",
    "\n",
    "# None\n",
    "n = None  # NoneType"
   ]
  },
  {
   "cell_type": "markdown",
   "id": "d1be43ad",
   "metadata": {},
   "source": [
    "#### User Input\n",
    "_Python_ allows for _user input_. That means we are able to ask the _user_ for _input_."
   ]
  },
  {
   "cell_type": "code",
   "execution_count": null,
   "id": "85992d06",
   "metadata": {
    "vscode": {
     "languageId": "plaintext"
    }
   },
   "outputs": [],
   "source": [
    "# take input by user\n",
    "name = input(\"Enter your name: \")\n",
    "age = int(input(\"Enter your age: \")) # input convert into integer\n",
    "\n",
    "print(\"Hello\", name)\n",
    "print(age)"
   ]
  }
 ],
 "metadata": {
  "language_info": {
   "name": "python"
  }
 },
 "nbformat": 4,
 "nbformat_minor": 5
}

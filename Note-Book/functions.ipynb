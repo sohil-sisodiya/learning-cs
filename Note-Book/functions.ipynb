{
  "nbformat": 4,
  "nbformat_minor": 0,
  "metadata": {
    "colab": {
      "provenance": [],
      "toc_visible": true
    },
    "kernelspec": {
      "name": "python3",
      "display_name": "Python 3"
    },
    "language_info": {
      "name": "python"
    }
  },
  "cells": [
    {
      "cell_type": "markdown",
      "source": [
        "# Functions\n",
        "Functions are reusable peice of programs\n",
        "\n",
        "They allow you to give a name to a block of statements, allowing you to run that block using the specified name anywhere in your program and ant number of times this is known as **calling the function.**\n",
        "\n",
        "> Functions define using `def` keyword."
      ],
      "metadata": {
        "id": "hWADLck9J18p"
      }
    },
    {
      "cell_type": "code",
      "source": [
        "def say_hello():\n",
        "  # block belonging to the function\n",
        "  print(\"Hello World!\")\n",
        "\n",
        "# End of function\n",
        "say_hello() # call the function\n",
        "say_hello() # # call the function again"
      ],
      "metadata": {
        "colab": {
          "base_uri": "https://localhost:8080/"
        },
        "id": "7xrMCV-eKoEN",
        "outputId": "a7d2413d-696a-4efe-e604-c896cb3bd8c5"
      },
      "execution_count": null,
      "outputs": [
        {
          "output_type": "stream",
          "name": "stdout",
          "text": [
            "Hello World!\n",
            "Hello World!\n"
          ]
        }
      ]
    },
    {
      "cell_type": "markdown",
      "source": [
        "## Function Parameter"
      ],
      "metadata": {
        "id": "Bya3gj4oLPQo"
      }
    },
    {
      "cell_type": "code",
      "source": [
        "# Function Parameter\n",
        "def print_max(a, b):\n",
        "    if a > b:\n",
        "        print(a, 'is maximum')\n",
        "    elif a == b:\n",
        "        print(a, 'is equal to', b)\n",
        "    else:\n",
        "        print(b, 'is maximum')\n",
        "\n",
        "\n",
        "# directly pass literal values\n",
        "print_max(3, 4)\n",
        "\n",
        "# pass variables as arguments\n",
        "x = 5\n",
        "y = 7\n",
        "print_max(x, y)"
      ],
      "metadata": {
        "id": "_AkLTDoWLHu6"
      },
      "execution_count": null,
      "outputs": []
    },
    {
      "cell_type": "markdown",
      "source": [
        "## **scope** of variables\n",
        "\n",
        "- Local Variable\n",
        "- global Variable"
      ],
      "metadata": {
        "id": "2VX8ZYR3LTmk"
      }
    },
    {
      "cell_type": "markdown",
      "source": [
        "### Local Variable\n",
        "variable names are local to the function. This is called the scope of the variable."
      ],
      "metadata": {
        "id": "yzVigKSwLa5M"
      }
    },
    {
      "cell_type": "code",
      "source": [
        "# local variable\n",
        "\n",
        "x = 50\n",
        "\n",
        "def func(x):\n",
        "  print(\"x is \", x)\n",
        "  x = 2\n",
        "  print(\"Changed local x to\", x)\n",
        "\n",
        "func(x)\n",
        "print(\"x is still\", x)"
      ],
      "metadata": {
        "colab": {
          "base_uri": "https://localhost:8080/"
        },
        "id": "u8XiESFJLaXE",
        "outputId": "41b95ea6-465f-41c5-afa2-c7820a7f0ffa"
      },
      "execution_count": null,
      "outputs": [
        {
          "output_type": "stream",
          "name": "stdout",
          "text": [
            "x is  50\n",
            "Changed local x to 2\n",
            "x is still 50\n"
          ]
        }
      ]
    },
    {
      "cell_type": "markdown",
      "source": [
        "### Global Variable\n",
        "If you want to assign a value to a name defined at the top level of the program (i.e. not inside any kind of scope such as functions or classes), then you have to tell Python that the name is not local, but it is global.\n",
        "\n",
        "It is impossible to assign a value to a variable defined outside a function without the `global` statement."
      ],
      "metadata": {
        "id": "S4NjR878MfME"
      }
    },
    {
      "cell_type": "code",
      "source": [
        "x = 50  # global variable\n",
        "\n",
        "def func():\n",
        "    global x    # global Keyword inside the function\n",
        "    print('x is', x)\n",
        "    x = 2\n",
        "    print('Changed global x to', x)\n",
        "\n",
        "func()\n",
        "print('Value of x is', x)"
      ],
      "metadata": {
        "colab": {
          "base_uri": "https://localhost:8080/"
        },
        "id": "t2h0eoEmMomd",
        "outputId": "766f25af-4b60-4531-f0ea-0c4739e20063"
      },
      "execution_count": null,
      "outputs": [
        {
          "output_type": "stream",
          "name": "stdout",
          "text": [
            "x is 50\n",
            "Changed global x to 2\n",
            "Value of x is 2\n"
          ]
        }
      ]
    },
    {
      "cell_type": "markdown",
      "source": [
        "## Arguments\n",
        "Argurments a specified after the function name, inside the parentheses. you can add as many arguments as you want, just separate them with a comma."
      ],
      "metadata": {
        "id": "0BXavcsQMwzA"
      }
    },
    {
      "cell_type": "markdown",
      "source": [
        "### Default arguments value\n",
        "You can specify default argument values for parameters by appending to the parameter name in the function definition the assignment operator `( = )` followed by the default value."
      ],
      "metadata": {
        "id": "28zF8yNqNKcI"
      }
    },
    {
      "cell_type": "code",
      "source": [
        "def say(message, times=1): # default argument -- times=1\n",
        "    print(message * times)\n",
        "\n",
        "say('Hello')\n",
        "say('World ', 5) # overwrite the default argument"
      ],
      "metadata": {
        "colab": {
          "base_uri": "https://localhost:8080/"
        },
        "id": "IYxZDBdHNN91",
        "outputId": "9db95421-2576-4d17-aaff-b6056b6038ee"
      },
      "execution_count": null,
      "outputs": [
        {
          "output_type": "stream",
          "name": "stdout",
          "text": [
            "Hello\n",
            "World World World World World \n"
          ]
        }
      ]
    },
    {
      "cell_type": "markdown",
      "source": [
        "### Keyword Arguments\n",
        "If you have some functions with many parameters and you want to specify only some of them, then you can *give values for such parameters by naming them* - this is called **keyword arguments.**\n",
        "\n",
        "we use the `name` (keyword) instead of the position (which we have been using all along) to specify the arguments to the function."
      ],
      "metadata": {
        "id": "Njr8zNISNk6i"
      }
    },
    {
      "cell_type": "code",
      "source": [
        "def space_suit(color='blue'):\n",
        "    print('My space suit color is {}'.format(color))\n",
        "\n",
        "space_suit() # print color is blue\n",
        "space_suit(color = 'red') # print color is red\n",
        "\n",
        "\n",
        "def func(a, b=5, c=10): # keyword arguments\n",
        "    print('a is', a, 'and b is', b, 'and c is', c)\n",
        "\n",
        "func(3, 7)\n",
        "func(25, c=24)\n",
        "func(c=50, a=100)"
      ],
      "metadata": {
        "colab": {
          "base_uri": "https://localhost:8080/"
        },
        "id": "ol5C3pOUNvvW",
        "outputId": "9e99d76a-60d8-410d-82de-ffe7f032c962"
      },
      "execution_count": null,
      "outputs": [
        {
          "output_type": "stream",
          "name": "stdout",
          "text": [
            "My space suit color is blue\n",
            "My space suit color is red\n",
            "a is 3 and b is 7 and c is 10\n",
            "a is 25 and b is 5 and c is 24\n",
            "a is 100 and b is 5 and c is 50\n"
          ]
        }
      ]
    },
    {
      "cell_type": "markdown",
      "source": [
        "- when passing through arguments, positional arguments need to be passed through FIRST (and in order), followed by keyword arguments.\n",
        "\n",
        "- positional arguments order is important but not in keyword arguments."
      ],
      "metadata": {
        "id": "iYTu2-SpODDr"
      }
    },
    {
      "cell_type": "code",
      "source": [
        "def space_suit_welcome(name,space_ship,color='blue'):\n",
        "    return 'Welcome {} to the {}, your suit color is {}'.format(name, space_ship, color)\n",
        "\n",
        "names = ['sohil', 'mohit', 'rohit']\n",
        "space_ships = ['apollo 8', 'One8', 'apollo One']\n",
        "\n",
        "for idx, name in enumerate(names):\n",
        "    ships = space_ships[idx]\n",
        "    print(space_suit_welcome(name, ships))"
      ],
      "metadata": {
        "colab": {
          "base_uri": "https://localhost:8080/"
        },
        "id": "cd0M18goOLy3",
        "outputId": "963c9c11-815e-45e5-a67a-e31df42b58f6"
      },
      "execution_count": null,
      "outputs": [
        {
          "output_type": "stream",
          "name": "stdout",
          "text": [
            "Welcome sohil to the apollo 8, your suit color is blue\n",
            "Welcome mohit to the One8, your suit color is blue\n",
            "Welcome rohit to the apollo One, your suit color is blue\n"
          ]
        }
      ]
    },
    {
      "cell_type": "markdown",
      "source": [
        "### `VarArgs` parameters\n",
        "Sometimes you might want to define a function that can take any number of parameters, i.e. variable number of arguments"
      ],
      "metadata": {
        "id": "NaRI5dJ9OKT5"
      }
    },
    {
      "cell_type": "code",
      "source": [
        "# *param\n",
        "\n",
        "def print_sum(*num):\n",
        "    sum = 0\n",
        "    for i in num:\n",
        "       sum = i+sum\n",
        "    return sum\n",
        "\n",
        "ans = print_sum(3,4,4,2,5,6,2,4,4)\n",
        "print(ans)"
      ],
      "metadata": {
        "id": "aP2EmZq7OrT-"
      },
      "execution_count": null,
      "outputs": []
    },
    {
      "cell_type": "code",
      "source": [
        "# **param\n",
        "\n",
        "def print_sum(**num):\n",
        "     sum = 0\n",
        "     for i in num:\n",
        "       sum = num[i]+sum\n",
        "     return sum\n",
        "\n",
        "ans = print_sum(num1 = 4, num2 = 5, num3 = 9)\n",
        "print(ans)"
      ],
      "metadata": {
        "id": "OW3ChmIZO90p"
      },
      "execution_count": null,
      "outputs": []
    },
    {
      "cell_type": "code",
      "source": [
        "# use together\n",
        "\n",
        "def total(a=5, *numbers, **phonebook):\n",
        "    print('a', a)\n",
        "\n",
        "#iterate through all the items in tuple\n",
        "    for single_item in numbers:\n",
        "        print('single_item', single_item)\n",
        "\n",
        "# get the value\n",
        "    for i in phonebook:\n",
        "        print('Value is',phonebook[i])\n",
        "# get the index like jack, john\n",
        "    for i in phonebook:\n",
        "        print('Key is',i)\n",
        "\n",
        "#iterate through all the items in dictionary\n",
        "    for first_part, second_part in phonebook.items():\n",
        "        print(first_part,second_part)\n",
        "\n",
        "total(10,1,2,3,Jack=1123,John=2231,Inge=1560)"
      ],
      "metadata": {
        "id": "O251spQzZ69H"
      },
      "execution_count": null,
      "outputs": []
    },
    {
      "cell_type": "markdown",
      "source": [
        "- When we declare a starred parameter such as `*param` , then all the **positional arguments** from that point till the end\n",
        "are collected as a tuple called 'param'.\n",
        "\n",
        "- Similarly, when we declare a double-starred parameter such as `**param` , then all the **keyword arguments** from that point till the end are collected as a dictionary called 'param'."
      ],
      "metadata": {
        "id": "BE5vLcnkbIlx"
      }
    },
    {
      "cell_type": "markdown",
      "source": [
        "### The return statement\n",
        "The `return` statement is used to return from a function i.e. break out of the function.\n",
        "We can optionally return a value from the function as well."
      ],
      "metadata": {
        "id": "QqqAKJYPbNdL"
      }
    },
    {
      "cell_type": "code",
      "source": [
        "def maximum(x, y):\n",
        "    if x > y:\n",
        "        return x\n",
        "    elif x == y:\n",
        "        return 'The numbers are equal'\n",
        "    else:\n",
        "        return y\n",
        "\n",
        "print(maximum(2, 3))"
      ],
      "metadata": {
        "colab": {
          "base_uri": "https://localhost:8080/"
        },
        "id": "ODDji4x_bQ5h",
        "outputId": "f3735356-5d25-4c5d-c40c-fb1603311092"
      },
      "execution_count": 1,
      "outputs": [
        {
          "output_type": "stream",
          "name": "stdout",
          "text": [
            "3\n"
          ]
        }
      ]
    },
    {
      "cell_type": "markdown",
      "source": [
        "### lambda function\n",
        "A lambda function is a small anonymous function.\n",
        "\n",
        "A lambda function can take any number of arguments, but can only have one expression."
      ],
      "metadata": {
        "id": "WkGLMGsgbTH9"
      }
    },
    {
      "cell_type": "markdown",
      "source": [
        "syntax: `lambda _arguments_ : _expression_`"
      ],
      "metadata": {
        "id": "PPMbILXJbTph"
      }
    },
    {
      "cell_type": "code",
      "source": [
        "# how to use lamda function - lambda _arguments_ : _expression_\n",
        "x = lambda a, n: a ** n\n",
        "print(x(2,9))\n",
        "\n",
        "ans = lambda x: x*3.14\n",
        "print(ans(23))\n",
        "\n",
        "\n",
        "# The power of lambda is better shown when you use them as an anonymous function inside another function.\n",
        "def myfunc(n):\n",
        "  return lambda a : a * n\n",
        "\n",
        "mydoubler = myfunc(2)\n",
        "print(mydoubler(11))"
      ],
      "metadata": {
        "id": "mRUMG1kNbqmD"
      },
      "execution_count": null,
      "outputs": []
    }
  ]
}
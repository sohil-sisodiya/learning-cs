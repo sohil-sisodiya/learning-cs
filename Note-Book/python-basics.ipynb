{
 "cells": [
  {
   "cell_type": "markdown",
   "metadata": {
    "id": "5z3_ePswgv_M"
   },
   "source": [
    "# What is Python\n",
    "Python is both complied and interpreted, object-oriented, high level of programming language with dynamics semantics.\n",
    "\n",
    "> Creator: **Guido Van Rossum (1991)**"
   ]
  },
  {
   "cell_type": "markdown",
   "metadata": {
    "id": "NieESc-Zh3gy"
   },
   "source": [
    "## Comment is Python\n",
    "Python have two type of comments:\n",
    "- Single Line\n",
    "- Multiple Line"
   ]
  },
  {
   "cell_type": "code",
   "execution_count": null,
   "metadata": {
    "id": "pFAgdm9JgEIO"
   },
   "outputs": [],
   "source": [
    "# this is single line comment\n",
    "'''\n",
    "this is\n",
    "Multiple line\n",
    "comments\n",
    "'''"
   ]
  },
  {
   "cell_type": "markdown",
   "metadata": {
    "id": "a_y14LRdiVwF"
   },
   "source": [
    "### Docstring\n",
    "docstring is basically the documentation of the above program or function."
   ]
  },
  {
   "cell_type": "code",
   "execution_count": null,
   "metadata": {
    "colab": {
     "base_uri": "https://localhost:8080/"
    },
    "executionInfo": {
     "elapsed": 45,
     "status": "ok",
     "timestamp": 1750560737272,
     "user": {
      "displayName": "Sohil Sisodiya",
      "userId": "14088739857679733049"
     },
     "user_tz": -330
    },
    "id": "-ITHpggCi26T",
    "outputId": "c7d84166-305f-4001-c582-89c2942f49ec"
   },
   "outputs": [
    {
     "name": "stdout",
     "output_type": "stream",
     "text": [
      "5 is maximum\n"
     ]
    }
   ],
   "source": [
    "def print_max(x, y):\n",
    "    '''Prints the maximum of two numbers.\n",
    "          The two values must be integers.'''\n",
    "\n",
    " # convert to integers, if possible\n",
    "    x = int(x)\n",
    "    y = int(y)\n",
    "    if x > y:\n",
    "        print(x, 'is maximum')\n",
    "    else:\n",
    "        print(y, 'is maximum')\n",
    "\n",
    "\n",
    "print_max(3, 5)"
   ]
  },
  {
   "cell_type": "code",
   "execution_count": null,
   "metadata": {
    "colab": {
     "base_uri": "https://localhost:8080/",
     "height": 35
    },
    "executionInfo": {
     "elapsed": 57,
     "status": "ok",
     "timestamp": 1750560766731,
     "user": {
      "displayName": "Sohil Sisodiya",
      "userId": "14088739857679733049"
     },
     "user_tz": -330
    },
    "id": "fb0KejY3jHSR",
    "outputId": "3af8443f-6e3d-4329-f78a-2e7c71cabc49"
   },
   "outputs": [
    {
     "data": {
      "application/vnd.google.colaboratory.intrinsic+json": {
       "type": "string"
      },
      "text/plain": [
       "'Prints the maximum of two numbers.\\nThe two values must be integers.'"
      ]
     },
     "execution_count": 3,
     "metadata": {},
     "output_type": "execute_result"
    }
   ],
   "source": [
    "print_max.__doc__ # access the documentation of the function"
   ]
  },
  {
   "cell_type": "markdown",
   "metadata": {
    "id": "dTqKE5Y3jUXJ"
   },
   "source": [
    "# Variables in Python\n",
    "Rule of writine a variables:\n",
    "- use `_` (underscore) to separate the names while writing a variable not space.\n",
    "- A variable name never start with a numbers or special symbols\n"
   ]
  },
  {
   "cell_type": "code",
   "execution_count": null,
   "metadata": {
    "id": "ZbApTwH6kJb2"
   },
   "outputs": [],
   "source": [
    "1var = 20 # wrong way"
   ]
  },
  {
   "cell_type": "code",
   "execution_count": null,
   "metadata": {
    "id": "zJ1QK5ntkYS1"
   },
   "outputs": [],
   "source": [
    "# Creating Variable\n",
    "\n",
    "var1 = 20\n",
    "var_1 = 10"
   ]
  },
  {
   "cell_type": "code",
   "execution_count": null,
   "metadata": {
    "id": "6DzWxgbpk_sn"
   },
   "outputs": [],
   "source": [
    "# best practice- use camelcase for multiple words variable\n",
    "\n",
    "yourAge = input(\"What is your Age? \")\n",
    "print(yourAge)\n",
    "\n",
    "whatIsYourName = input(\"What is your Name: \")\n",
    "print(whatIsYourName)"
   ]
  },
  {
   "cell_type": "code",
   "execution_count": null,
   "metadata": {
    "id": "UhDO1spCldAg"
   },
   "outputs": [],
   "source": [
    "# creating multi line variable\n",
    "number = (\n",
    "    1 + 2 + 3 +\n",
    "    4 + 5 + 6 +\n",
    "    7 + 8 + 9\n",
    ")\n",
    "\n",
    "print(number)\n",
    "\n",
    "# Assigning Mutliple Variable in same line\n",
    "num1 = 10; num2 = 20; num3 = 30\n",
    "print(num1, num2, num3)\n",
    "\n",
    "var1 = var2 = var3 = 35\n",
    "print(var1)\n",
    "print(var2)\n",
    "print(var3)\n",
    "\n",
    "var_sum = var1 + var2 + var3\n",
    "\n",
    "print(var_sum)\n",
    "\n",
    "i = 5\n",
    "print(i)\n",
    "i = i + 1\n",
    "print(i)\n",
    "\n",
    "s = '''This is a multi-line string.\n",
    "This is the second line.'''\n",
    "print(s)"
   ]
  },
  {
   "cell_type": "markdown",
   "metadata": {
    "id": "fZS73sWtlgua"
   },
   "source": [
    "### Indetation\n",
    "whitespace in important in python.Actually, whitespace at the beginning of the line important, this is called **indentation**."
   ]
  },
  {
   "cell_type": "code",
   "execution_count": null,
   "metadata": {
    "colab": {
     "base_uri": "https://localhost:8080/",
     "height": 108
    },
    "executionInfo": {
     "elapsed": 120,
     "status": "error",
     "timestamp": 1750561488445,
     "user": {
      "displayName": "Sohil Sisodiya",
      "userId": "14088739857679733049"
     },
     "user_tz": -330
    },
    "id": "7uPcYvT9l9WT",
    "outputId": "1c912ad2-2ffb-4047-d246-2dd745f2232d"
   },
   "outputs": [
    {
     "ename": "IndentationError",
     "evalue": "unexpected indent (ipython-input-4-1220124981.py, line 4)",
     "output_type": "error",
     "traceback": [
      "\u001b[0;36m  File \u001b[0;32m\"/tmp/ipython-input-4-1220124981.py\"\u001b[0;36m, line \u001b[0;32m4\u001b[0m\n\u001b[0;31m    print('Value is', i)\u001b[0m\n\u001b[0m    ^\u001b[0m\n\u001b[0;31mIndentationError\u001b[0m\u001b[0;31m:\u001b[0m unexpected indent\n"
     ]
    }
   ],
   "source": [
    "i = 5\n",
    "\n",
    "# Error below! Notice a single space at the start of the line\n",
    " print('Value is', i)\n",
    "print('I repeat, the value is', i)"
   ]
  },
  {
   "cell_type": "markdown",
   "metadata": {
    "id": "6TkaQq8lmMAJ"
   },
   "source": [
    "# Data Type and User-Input\n",
    "python has automatically assign data type of variable, you don't need to assign it."
   ]
  },
  {
   "cell_type": "code",
   "execution_count": null,
   "metadata": {
    "id": "bPXVI9abmjf8"
   },
   "outputs": [],
   "source": [
    "a = \"hello\"  # str\n",
    "\n",
    "# numeric\n",
    "b = 10  # int\n",
    "c = 10.5  # float\n",
    "d = 5+6j  # complex\n",
    "\n",
    "# Boolean\n",
    "e = True  # bool\n",
    "f = False # bool\n",
    "\n",
    "# Sequence\n",
    "g = [1, 2, 3, 4]  # list\n",
    "h = (1, 2, 3, 4)  # tuple\n",
    "i = {1, 2, 3, 4}  # set\n",
    "# set\n",
    "o = frozenset({1, 2, 3, 4})  # frozenset\n",
    "\n",
    "# Mapping\n",
    "j = {1: 'one', 2: 'two', 3: 'three'}  # dict\n",
    "\n",
    "# binary\n",
    "k = b'hello'  # bytes\n",
    "l = bytearray(5)  # bytearray\n",
    "m = memoryview(bytes(4))  # memoryview\n",
    "\n",
    "# None\n",
    "n = None  # NoneType"
   ]
  },
  {
   "cell_type": "markdown",
   "metadata": {
    "id": "EZB1ygRNmrsd"
   },
   "source": [
    "## User Input\n",
    "_Python_ allows for _user input_. That means we are able to ask the _user_ for _input_.\n",
    "\n",
    "> Note: Input function take inputs in only **string format**."
   ]
  },
  {
   "cell_type": "code",
   "execution_count": null,
   "metadata": {
    "id": "W28yOCpfmzV7"
   },
   "outputs": [],
   "source": [
    "# take input by user\n",
    "yourName = input(\"Enter your name: \")\n",
    "whatAge = int(input(\"Enter your age: \")) # input convert into integer\n",
    "\n",
    "print(\"Hello, \", yourName)\n",
    "print(\"Your age is \", whatAge)"
   ]
  },
  {
   "cell_type": "markdown",
   "metadata": {
    "id": "52xvUNN9nZKA"
   },
   "source": [
    "## Type-Casting and subtype\n",
    "Conversion of one data type to another is called type-casting.\n",
    "\n",
    "Two type of type-casting:\n",
    "1. **Implicit**: where python itself convert one to another datatype\n",
    "2. **Explicit**: where the user converts one datatypes to another.\n"
   ]
  },
  {
   "cell_type": "code",
   "execution_count": null,
   "metadata": {
    "id": "ucCfrP6_oKxd"
   },
   "outputs": [],
   "source": [
    "# implicit type conversion\n",
    "a = 23\n",
    "b = 23.4\n",
    "\n",
    "print(type(a))\n",
    "print(type(b))"
   ]
  },
  {
   "cell_type": "code",
   "execution_count": null,
   "metadata": {
    "id": "M38Pwm_qoG3V"
   },
   "outputs": [],
   "source": [
    "# Explicit Type Conversion\n",
    "a = '200'\n",
    "print(type(a))\n",
    "\n",
    "b = int(a)\n",
    "print(type(b))  # string to int"
   ]
  },
  {
   "cell_type": "markdown",
   "metadata": {
    "id": "BAxAqB3qoREd"
   },
   "source": [
    "# Operators and Operands\n",
    "- **Operators** indicates what operations is to be peformed.\n",
    "- **Operands** indicated on what the action or the operation should be performed.\n",
    "\n",
    "> x + y = 10, here\n",
    "> x, y and 10 are operands and + is operators"
   ]
  },
  {
   "cell_type": "markdown",
   "metadata": {
    "id": "S4V013Ucosa7"
   },
   "source": [
    "## Type of Operators\n",
    "Python divides the operators in the following Groups:\n"
   ]
  },
  {
   "cell_type": "markdown",
   "metadata": {
    "id": "-fcGYAIApJPM"
   },
   "source": [
    "### Arithmetic Operators"
   ]
  },
  {
   "cell_type": "code",
   "execution_count": null,
   "metadata": {
    "id": "-iNPQbiHpYJP"
   },
   "outputs": [],
   "source": [
    "# Arithmetic Operators\n",
    "a = 10\n",
    "b = 3\n",
    "\n",
    "print(a + b) # Addition\n",
    "print(a - b) # Subtraction\n",
    "print(a * b) # Multiplication\n",
    "print(a / b) # Division\n",
    "print(a % b) # Modulus\n",
    "print(a ** b) # Exponentiation\n",
    "\n",
    "# Note that if one of the values is a float, you'll get back a float.\n",
    "print(a // b) # Floor division"
   ]
  },
  {
   "cell_type": "code",
   "execution_count": null,
   "metadata": {
    "colab": {
     "base_uri": "https://localhost:8080/"
    },
    "executionInfo": {
     "elapsed": 31,
     "status": "ok",
     "timestamp": 1750562784558,
     "user": {
      "displayName": "Sohil Sisodiya",
      "userId": "14088739857679733049"
     },
     "user_tz": -330
    },
    "id": "sUFtLSUOq5Sm",
    "outputId": "d655970d-010c-4089-c0c8-784d44527f96"
   },
   "outputs": [
    {
     "name": "stdout",
     "output_type": "stream",
     "text": [
      "6\n"
     ]
    }
   ],
   "source": [
    "# Shortcut Math Expression\n",
    "\n",
    "a = 2\n",
    "a*= 3 # it mean a = a * 3\n",
    "print(a)"
   ]
  },
  {
   "cell_type": "markdown",
   "metadata": {
    "id": "V42Zf3SepcLE"
   },
   "source": [
    "### Comparision Operators"
   ]
  },
  {
   "cell_type": "code",
   "execution_count": null,
   "metadata": {
    "id": "b3gGvkhppg2T"
   },
   "outputs": [],
   "source": [
    "# Comparison Operators\n",
    "a = 10\n",
    "b = 3\n",
    "\n",
    "print(a == b) # Equal to\n",
    "print(a != b) # Not equal to\n",
    "print(a > b) # Greater than\n",
    "print(a < b) # Less than"
   ]
  },
  {
   "cell_type": "markdown",
   "metadata": {
    "id": "i5LeooicpnKP"
   },
   "source": [
    "Note:\n",
    " - The ***`==` operator (equal to)*** asks whether two values are the same as each other.\n",
    " - The ***`=` operator (assignment)*** puts the value on the right into the variable on the left."
   ]
  },
  {
   "cell_type": "markdown",
   "metadata": {
    "id": "KAQOjJYspt6D"
   },
   "source": [
    "### Logical Operators"
   ]
  },
  {
   "cell_type": "code",
   "execution_count": null,
   "metadata": {
    "id": "Uq2BWiE9pytC"
   },
   "outputs": [],
   "source": [
    "# Logical Operators\n",
    "a = True\n",
    "b = False\n",
    "\n",
    "print(a and b) # and - both conditions must be true\n",
    "print(a or b) # or - at least one conditions must be true\n",
    "print(not a) # not - inverts the condition"
   ]
  },
  {
   "cell_type": "markdown",
   "metadata": {
    "id": "kIUmd-wop3Gu"
   },
   "source": [
    "### Indetity Operators"
   ]
  },
  {
   "cell_type": "code",
   "execution_count": null,
   "metadata": {
    "id": "5lT0J2O-p2eY"
   },
   "outputs": [],
   "source": [
    "# Indentity Operators- used to check the indentity\n",
    "a = 10\n",
    "b = 3\n",
    "\n",
    "print(a is b) # is\n",
    "print(a is not b) # is not"
   ]
  },
  {
   "cell_type": "markdown",
   "metadata": {
    "id": "ybRgQr6TqGZA"
   },
   "source": [
    "### Membership Operators"
   ]
  },
  {
   "cell_type": "code",
   "execution_count": null,
   "metadata": {
    "id": "zFTWhk2sqgF0"
   },
   "outputs": [],
   "source": [
    "# Membership Operators- used to check the presence of a sequance in an object\n",
    "a = \"Hello\"\n",
    "b = 'e'\n",
    "\n",
    "print(b in a) # in\n",
    "print(b not in a) # not in"
   ]
  },
  {
   "cell_type": "markdown",
   "metadata": {
    "id": "blJCG5tGqpop"
   },
   "source": [
    "### Bitwise Operators"
   ]
  },
  {
   "cell_type": "code",
   "execution_count": null,
   "metadata": {
    "id": "fjBfJIOhqszf"
   },
   "outputs": [],
   "source": [
    "# Bitwise Operators\n",
    "a = 10\n",
    "b = 2\n",
    "\n",
    "print(a & b) # and\n",
    "print(a | b) # or\n",
    "print(a ^ b) # xor\n",
    "\n",
    "print(~a) # not\n",
    "print(a << b) # left shift - Shifts the bits of the number to the left by the number of bits specified.\n",
    "print(a >> b) # right shift - same do for right"
   ]
  },
  {
   "cell_type": "markdown",
   "metadata": {
    "id": "jY8MMCsGrHO4"
   },
   "source": [
    "# Random Numbers\n",
    "Python has ability to generate random numbers using their random library."
   ]
  },
  {
   "cell_type": "code",
   "execution_count": null,
   "metadata": {
    "id": "bU5iLP6mrTVT"
   },
   "outputs": [],
   "source": [
    "import random\n",
    "\n",
    "dir(random) # all method show in random module\n",
    "help(random) # description of the methods and functions in random module"
   ]
  },
  {
   "cell_type": "code",
   "execution_count": null,
   "metadata": {
    "id": "Xl3hYAVkro0G"
   },
   "outputs": [],
   "source": [
    "# rolling a dice\n",
    "\n",
    "number = random.randint(1,6) # generate random integer number\n",
    "number"
   ]
  },
  {
   "cell_type": "code",
   "execution_count": null,
   "metadata": {
    "colab": {
     "base_uri": "https://localhost:8080/"
    },
    "executionInfo": {
     "elapsed": 36,
     "status": "ok",
     "timestamp": 1750563101273,
     "user": {
      "displayName": "Sohil Sisodiya",
      "userId": "14088739857679733049"
     },
     "user_tz": -330
    },
    "id": "pRKCiJW9r5SB",
    "outputId": "900d04e0-b859-4bf7-d0c5-48ea45b22267"
   },
   "outputs": [
    {
     "data": {
      "text/plain": [
       "22"
      ]
     },
     "execution_count": 10,
     "metadata": {},
     "output_type": "execute_result"
    }
   ],
   "source": [
    "# generate random integer number usig variables\n",
    "\n",
    "low = 1; high = 30\n",
    "\n",
    "num = random.randint(low, high)\n",
    "num"
   ]
  },
  {
   "cell_type": "code",
   "execution_count": null,
   "metadata": {
    "id": "mmvpOFTQsTW0"
   },
   "outputs": [],
   "source": [
    "# generate random float number\n",
    "\n",
    "floatNumber = random.random() # return float between 0 to 1..\n",
    "floatNumber"
   ]
  },
  {
   "cell_type": "code",
   "execution_count": null,
   "metadata": {
    "colab": {
     "base_uri": "https://localhost:8080/",
     "height": 35
    },
    "executionInfo": {
     "elapsed": 35,
     "status": "ok",
     "timestamp": 1750563294739,
     "user": {
      "displayName": "Sohil Sisodiya",
      "userId": "14088739857679733049"
     },
     "user_tz": -330
    },
    "id": "-780T93YsrOb",
    "outputId": "b0ba9e11-8038-4dbb-b319-bc201de4373f"
   },
   "outputs": [
    {
     "data": {
      "application/vnd.google.colaboratory.intrinsic+json": {
       "type": "string"
      },
      "text/plain": [
       "'rock'"
      ]
     },
     "execution_count": 14,
     "metadata": {},
     "output_type": "execute_result"
    }
   ],
   "source": [
    "# option which is randomly select\n",
    "\n",
    "options = (\"rock\", \"paper\", \"scissors\")\n",
    "\n",
    "selectOption = random.choice(options)\n",
    "selectOption"
   ]
  },
  {
   "cell_type": "code",
   "execution_count": null,
   "metadata": {
    "id": "Z404DpeqtG1c"
   },
   "outputs": [],
   "source": [
    "# shuffling the randoms\n",
    "\n",
    "cards = [2,3,4,5,6,7,8,9,10,'J','Q','K','A']\n",
    "random.shuffle(cards)\n",
    "\n",
    "cards"
   ]
  },
  {
   "cell_type": "markdown",
   "metadata": {
    "id": "jD7slSVctQZy"
   },
   "source": [
    "# Conditional Statements\n",
    "Conditional statements allows computers to execute a certain conditions only if it is true."
   ]
  },
  {
   "cell_type": "markdown",
   "metadata": {
    "id": "eV_oLe_ztfPx"
   },
   "source": [
    "## Type of conditional statements\n",
    "- if\n",
    "- if-else\n",
    "- if-elif-else\n",
    "- Nested statement\n",
    "- short hand if statement"
   ]
  },
  {
   "cell_type": "markdown",
   "metadata": {
    "id": "G9-e7rYHtdUJ"
   },
   "source": [
    "### if"
   ]
  },
  {
   "cell_type": "code",
   "execution_count": null,
   "metadata": {
    "id": "1z78qSf8t6Wm"
   },
   "outputs": [],
   "source": [
    "# if\n",
    "marks = 82\n",
    "\n",
    "if marks >= 90:\n",
    "    print(\"Grade A\")\n",
    "\n",
    "print(\"Other Rank\")"
   ]
  },
  {
   "cell_type": "markdown",
   "metadata": {
    "id": "Ic265xV3t9tV"
   },
   "source": [
    "### if-else"
   ]
  },
  {
   "cell_type": "code",
   "execution_count": null,
   "metadata": {
    "id": "FDbSeZbnt_oc"
   },
   "outputs": [],
   "source": [
    "# if-else\n",
    "age = 20\n",
    "if age >= 18:\n",
    "    print(\"You are eligible to vote\")\n",
    "else:\n",
    "    print(\"You are not eligible to vote\")"
   ]
  },
  {
   "cell_type": "markdown",
   "metadata": {
    "id": "VElYoLO9uDUP"
   },
   "source": [
    "### if-elif-else"
   ]
  },
  {
   "cell_type": "code",
   "execution_count": null,
   "metadata": {
    "id": "AsV3NynRuCBv"
   },
   "outputs": [],
   "source": [
    "# if-elif-else\n",
    "marks = 76\n",
    "\n",
    "if marks >= 90:\n",
    "    print(\"Grade A\")\n",
    "elif marks >= 80:\n",
    "    print(\"Grade B\")\n",
    "elif marks >= 70:\n",
    "    print(\"Grade C\")\n",
    "else:\n",
    "    print(\"Grade D\")"
   ]
  },
  {
   "cell_type": "markdown",
   "metadata": {
    "id": "3Iw6PXQQuJKm"
   },
   "source": [
    "### Nested Statement"
   ]
  },
  {
   "cell_type": "code",
   "execution_count": null,
   "metadata": {
    "id": "LMUIsgbLuA9j"
   },
   "outputs": [],
   "source": [
    "# nested statement\n",
    "num = 10\n",
    "\n",
    "if num >= 0:\n",
    "    if num == 0:\n",
    "        print(\"Zero\")\n",
    "    else:\n",
    "        print(\"Positive number\")\n",
    "else:\n",
    "    print(\"Negative number\")"
   ]
  },
  {
   "cell_type": "markdown",
   "metadata": {
    "id": "Cv5ap-p-uQM7"
   },
   "source": [
    "### short hand if statement"
   ]
  },
  {
   "cell_type": "code",
   "execution_count": null,
   "metadata": {
    "id": "d4DYiuRhuAtr"
   },
   "outputs": [],
   "source": [
    "# short hand if statement - one line statement\n",
    "a = 10\n",
    "b = 20\n",
    "\n",
    "if a < b: print(\"a is less than b\")"
   ]
  },
  {
   "cell_type": "markdown",
   "metadata": {
    "id": "-xPz4tusuaUA"
   },
   "source": [
    "#### short hand if-else statement\n",
    "Conditional expression - A one line shortcut for the if-else statement(Ternary Operator).\n",
    "\n",
    "here, X if condition else Y"
   ]
  },
  {
   "cell_type": "code",
   "execution_count": null,
   "metadata": {
    "id": "H6LQCrVtukIE"
   },
   "outputs": [],
   "source": [
    "a = 10\n",
    "b = 20\n",
    "\n",
    "# body of if; if condition; else; body of else\n",
    "print(\"a is less than b\") if a < b else print(\"a is greater than b\")"
   ]
  },
  {
   "cell_type": "markdown",
   "metadata": {
    "id": "TGmKUhZYussT"
   },
   "source": [
    "# Loops\n",
    "A loop means to repeat something in the exact same way."
   ]
  },
  {
   "cell_type": "markdown",
   "metadata": {
    "id": "NfUjUsABu3vx"
   },
   "source": [
    "## Types of loops are:\n",
    "1. For\n",
    "2. While\n",
    "3. While True\n",
    "4. Nested"
   ]
  },
  {
   "cell_type": "markdown",
   "metadata": {
    "id": "dyHQahlXu3Bh"
   },
   "source": [
    "### for"
   ]
  },
  {
   "cell_type": "code",
   "execution_count": null,
   "metadata": {
    "id": "ghmZlcy8vFZU"
   },
   "outputs": [],
   "source": [
    "# for loop\n",
    "\n",
    "for i in range(10): # range() means range between --> 1 to 10\n",
    "    print(i)"
   ]
  },
  {
   "cell_type": "markdown",
   "metadata": {
    "id": "9T-XAd_SvMG8"
   },
   "source": [
    "### while"
   ]
  },
  {
   "cell_type": "code",
   "execution_count": null,
   "metadata": {
    "id": "xAQtJDD7vO5C"
   },
   "outputs": [],
   "source": [
    "# while loop\n",
    "\n",
    "i = 0 # start\n",
    "while i < 10: # condition\n",
    "    print(i)\n",
    "    i += 1 # increment"
   ]
  },
  {
   "cell_type": "markdown",
   "metadata": {
    "id": "KuFhS7EqvUm8"
   },
   "source": [
    "### while True"
   ]
  },
  {
   "cell_type": "code",
   "execution_count": null,
   "metadata": {
    "id": "1psgPJMbvWc1"
   },
   "outputs": [],
   "source": [
    "# while true -- not important, rarely use case\n",
    "i = 0\n",
    "while True:\n",
    "    print(i)\n",
    "    i += 1\n",
    "    if i >= 100:\n",
    "        break"
   ]
  },
  {
   "cell_type": "markdown",
   "metadata": {
    "id": "h4Z8bAOmvfDv"
   },
   "source": [
    "### Nested loop"
   ]
  },
  {
   "cell_type": "code",
   "execution_count": null,
   "metadata": {
    "id": "y1E8YIFjvhQs"
   },
   "outputs": [],
   "source": [
    "# nested loop - a loop inside a loop is called as nested loop.\n",
    "\n",
    "for i in range(1,6):\n",
    "    for j in range(1, i+1):\n",
    "        print(j, end = ' ')\n",
    "    print()"
   ]
  },
  {
   "cell_type": "markdown",
   "metadata": {
    "id": "Mzs4_xGpBOOR"
   },
   "source": [
    "### for loop with conditional statement"
   ]
  },
  {
   "cell_type": "code",
   "execution_count": null,
   "metadata": {
    "colab": {
     "base_uri": "https://localhost:8080/"
    },
    "executionInfo": {
     "elapsed": 34,
     "status": "ok",
     "timestamp": 1750602144025,
     "user": {
      "displayName": "Sohil Sisodiya",
      "userId": "14088739857679733049"
     },
     "user_tz": -330
    },
    "id": "R2dnJYjsvp-c",
    "outputId": "9daa11da-fd7c-49d1-f712-254b91368fe6"
   },
   "outputs": [
    {
     "name": "stdout",
     "output_type": "stream",
     "text": [
      "2\n",
      "4\n",
      "6\n",
      "8\n"
     ]
    }
   ],
   "source": [
    "# for loop with conditional statement\n",
    "for i in range(1,10):\n",
    "    if i % 2 == 0:\n",
    "        print(i)"
   ]
  },
  {
   "cell_type": "code",
   "execution_count": null,
   "metadata": {
    "id": "hOD6gDYpvpzD"
   },
   "outputs": [],
   "source": [
    "# conditional statement with and operator\n",
    "for i in range(1, 101):\n",
    "    if i % 2 == 0 and i % 3 == 0:\n",
    "        print(i)"
   ]
  },
  {
   "cell_type": "markdown",
   "metadata": {
    "id": "KHZDgmOaA2YY"
   },
   "source": [
    "### `enumerate()` function"
   ]
  },
  {
   "cell_type": "code",
   "execution_count": null,
   "metadata": {
    "id": "a_jGB3WHBFax"
   },
   "outputs": [],
   "source": [
    "num = [2,2,3,1,3,4,6]\n",
    "# enumerate return value and index\n",
    "for index, value in enumerate(num):\n",
    "    print(index,value)"
   ]
  },
  {
   "cell_type": "markdown",
   "metadata": {
    "id": "Oz7EyhqCBU5m"
   },
   "source": [
    "# Break and Continue Statement"
   ]
  },
  {
   "cell_type": "markdown",
   "metadata": {
    "id": "yS-UKUsMBYAZ"
   },
   "source": [
    "## Continue Statement\n",
    "continue statement is used when you want to skip a particular condition."
   ]
  },
  {
   "cell_type": "code",
   "execution_count": null,
   "metadata": {
    "id": "W0kz4em8Bi7N"
   },
   "outputs": [],
   "source": [
    "# Continue statement\n",
    "for i in range(1, 10):\n",
    "    if i == 5:\n",
    "        continue\n",
    "    print(i)"
   ]
  },
  {
   "cell_type": "markdown",
   "metadata": {
    "id": "JrHFNg4uBm1V"
   },
   "source": [
    "## Break Statement\n",
    "break statement is used to destroy a loop at a certain condition and come out of the loop"
   ]
  },
  {
   "cell_type": "code",
   "execution_count": null,
   "metadata": {
    "colab": {
     "base_uri": "https://localhost:8080/"
    },
    "executionInfo": {
     "elapsed": 15,
     "status": "ok",
     "timestamp": 1750602362500,
     "user": {
      "displayName": "Sohil Sisodiya",
      "userId": "14088739857679733049"
     },
     "user_tz": -330
    },
    "id": "Nyum6iloBzuD",
    "outputId": "cc284fd5-76a9-4fac-e62b-939e8b76b9ac"
   },
   "outputs": [
    {
     "name": "stdout",
     "output_type": "stream",
     "text": [
      "1\n",
      "2\n",
      "3\n",
      "4\n",
      "5\n",
      "6\n",
      "7\n"
     ]
    }
   ],
   "source": [
    "# Break Statement\n",
    "for i in range(1,10):\n",
    "  if i == 8:\n",
    "    break\n",
    "  print(i)"
   ]
  }
 ],
 "metadata": {
  "colab": {
   "authorship_tag": "ABX9TyOYp6utg0DbxLnFauQYORw6",
   "provenance": [],
   "toc_visible": true
  },
  "kernelspec": {
   "display_name": "Python 3",
   "name": "python3"
  },
  "language_info": {
   "name": "python"
  }
 },
 "nbformat": 4,
 "nbformat_minor": 0
}
